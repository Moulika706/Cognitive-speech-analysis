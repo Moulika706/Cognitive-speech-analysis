{
 "cells": [
  {
   "cell_type": "code",
   "execution_count": 26,
   "id": "e858dd29-3745-4d16-91c1-02f4ca15af3a",
   "metadata": {},
   "outputs": [],
   "source": [
    "import os\n",
    "import librosa\n",
    "import numpy as np\n",
    "import pandas as pd\n",
    "import matplotlib.pyplot as plt\n",
    "import soundfile as sf\n",
    "import speech_recognition as sr  # alias kept intact\n",
    "from sklearn.ensemble import IsolationForest\n",
    "from sklearn.preprocessing import StandardScaler\n"
   ]
  },
  {
   "cell_type": "code",
   "execution_count": 28,
   "id": "63710217-079b-4ba4-807c-5ba9dffb5886",
   "metadata": {},
   "outputs": [],
   "source": [
    "def extract_features(file_path):\n",
    "    y, sr_audio = librosa.load(file_path, sr=None)\n",
    "\n",
    "    # Feature 1: Duration\n",
    "    duration = librosa.get_duration(y=y, sr=sr_audio)\n",
    "\n",
    "    # Feature 2: Zero Crossing Rate (ZCR) - rough speech activity\n",
    "    zcr = np.mean(librosa.feature.zero_crossing_rate(y)[0])\n",
    "\n",
    "    # Feature 3: Energy (RMS)\n",
    "    energy = np.mean(librosa.feature.rms(y=y)[0])\n",
    "\n",
    "    # Feature 4: Pitch (using librosa's estimate)\n",
    "    pitches, magnitudes = librosa.piptrack(y=y, sr=sr_audio)\n",
    "    pitch_values = pitches[magnitudes > np.median(magnitudes)]\n",
    "    avg_pitch = np.mean(pitch_values) if len(pitch_values) > 0 else 0\n",
    "\n",
    "    # Feature 5: Pause count (very basic - count frames with very low energy)\n",
    "    frame_energies = librosa.feature.rms(y=y)[0]\n",
    "    silence_threshold = 0.02\n",
    "    pause_count = np.sum(frame_energies < silence_threshold)\n",
    "\n",
    "    # Feature 6-8: Use transcription to extract more\n",
    "    recognizer = sr.Recognizer()\n",
    "    hesitations = 0\n",
    "    word_count = 0\n",
    "    speech_rate = 0\n",
    "\n",
    "    try:\n",
    "        with sr.AudioFile(file_path) as source:\n",
    "            audio_data = recognizer.record(source)\n",
    "            transcript = recognizer.recognize_google(audio_data)\n",
    "            words = transcript.split()\n",
    "\n",
    "            # Count basic speech features\n",
    "            word_count = len(words)\n",
    "            hesitations = sum(1 for w in words if w.lower() in ['uh', 'um', 'hmm'])\n",
    "            speech_rate = word_count / duration if duration > 0 else 0\n",
    "\n",
    "    except:\n",
    "        transcript = \"\"\n",
    "        word_count = 0\n",
    "        speech_rate = 0\n",
    "        hesitations = 0\n",
    "\n",
    "    return {\n",
    "        \"File\": os.path.basename(file_path),\n",
    "        \"Duration\": duration,\n",
    "        \"ZCR\": zcr,\n",
    "        \"Energy\": energy,\n",
    "        \"Pitch\": avg_pitch,\n",
    "        \"SpeechRate\": speech_rate,\n",
    "        \"WordCount\": word_count,\n",
    "        \"Hesitations\": hesitations,\n",
    "        \"PauseCount\": pause_count\n",
    "    }\n"
   ]
  },
  {
   "cell_type": "code",
   "execution_count": 32,
   "id": "21dd1ba9-158b-4fc7-8402-975570a822d0",
   "metadata": {},
   "outputs": [
    {
     "name": "stdout",
     "output_type": "stream",
     "text": [
      "Processing AbeBurrows_5.wav...\n",
      "Processing aileenhernandez_0.wav...\n",
      "Processing aileenhernandez_5_1.wav...\n",
      "Processing aileenhernandez_5_2.wav...\n",
      "Processing alanramsey_10.wav...\n",
      "Processing BarryCohen_5.wav...\n",
      "Processing CharlesKKao_0.wav...\n",
      "Processing DennisMoore_5.wav...\n",
      "Processing DonaldSterling_5.wav...\n",
      "Processing emilegriffith_5.wav...\n",
      "\n",
      "Extracted Features:\n",
      "                      File   Duration       ZCR    Energy        Pitch  \\\n",
      "0         AbeBurrows_5.wav  71.019683  0.053061  0.039122  1086.514771   \n",
      "1    aileenhernandez_0.wav  47.000000  0.055883  0.034694  1128.065186   \n",
      "2  aileenhernandez_5_1.wav  38.000000  0.089645  0.071403  1398.519287   \n",
      "3  aileenhernandez_5_2.wav  90.000000  0.074341  0.029308   887.691895   \n",
      "4        alanramsey_10.wav  55.000000  0.049693  0.016954  1550.390869   \n",
      "5         BarryCohen_5.wav  53.022676  0.069505  0.028428  1467.863403   \n",
      "6        CharlesKKao_0.wav  70.008345  0.044932  0.043380  1029.291992   \n",
      "7        DennisMoore_5.wav  90.016236  0.026938  0.035354   930.167908   \n",
      "8     DonaldSterling_5.wav  58.020227  0.043066  0.029413  1368.977539   \n",
      "9      emilegriffith_5.wav  10.000000  0.048629  0.014181   988.481445   \n",
      "\n",
      "   SpeechRate  WordCount  Hesitations  PauseCount  \n",
      "0    0.183048         13            0        2289  \n",
      "1    1.574468         74            0        1649  \n",
      "2    1.842105         70            0         734  \n",
      "3    1.222222        110            0        3765  \n",
      "4    0.545455         30            0        3182  \n",
      "5    0.358337         19            0        1750  \n",
      "6    0.799905         56            0        2641  \n",
      "7    0.000000          0            0        2010  \n",
      "8    0.361943         21            0        2943  \n",
      "9    1.200000         12            0         558  \n"
     ]
    }
   ],
   "source": [
    "audio_folder = \"audio_samples\"  # Change if your folder name is different\n",
    "\n",
    "features = []\n",
    "for file in os.listdir(audio_folder):\n",
    "    if file.endswith(\".wav\") or file.endswith(\".mp3\"):\n",
    "        path = os.path.join(audio_folder, file)\n",
    "        print(f\"Processing {file}...\")\n",
    "        features.append(extract_features(path))\n",
    "\n",
    "# Convert to DataFrame\n",
    "df = pd.DataFrame(features)\n",
    "print(\"\\nExtracted Features:\")\n",
    "print(df)\n"
   ]
  },
  {
   "cell_type": "code",
   "execution_count": 34,
   "id": "f9f8c693-362b-4599-a950-210ea5be6059",
   "metadata": {},
   "outputs": [
    {
     "name": "stdout",
     "output_type": "stream",
     "text": [
      "\n",
      "Final Result:\n",
      "                      File   Duration       ZCR    Energy        Pitch  \\\n",
      "0         AbeBurrows_5.wav  71.019683  0.053061  0.039122  1086.514771   \n",
      "1    aileenhernandez_0.wav  47.000000  0.055883  0.034694  1128.065186   \n",
      "2  aileenhernandez_5_1.wav  38.000000  0.089645  0.071403  1398.519287   \n",
      "3  aileenhernandez_5_2.wav  90.000000  0.074341  0.029308   887.691895   \n",
      "4        alanramsey_10.wav  55.000000  0.049693  0.016954  1550.390869   \n",
      "5         BarryCohen_5.wav  53.022676  0.069505  0.028428  1467.863403   \n",
      "6        CharlesKKao_0.wav  70.008345  0.044932  0.043380  1029.291992   \n",
      "7        DennisMoore_5.wav  90.016236  0.026938  0.035354   930.167908   \n",
      "8     DonaldSterling_5.wav  58.020227  0.043066  0.029413  1368.977539   \n",
      "9      emilegriffith_5.wav  10.000000  0.048629  0.014181   988.481445   \n",
      "\n",
      "   SpeechRate  WordCount  Hesitations  PauseCount RiskLabel  \n",
      "0    0.183048         13            0        2289    Normal  \n",
      "1    1.574468         74            0        1649    Normal  \n",
      "2    1.842105         70            0         734   At Risk  \n",
      "3    1.222222        110            0        3765   At Risk  \n",
      "4    0.545455         30            0        3182    Normal  \n",
      "5    0.358337         19            0        1750    Normal  \n",
      "6    0.799905         56            0        2641    Normal  \n",
      "7    0.000000          0            0        2010    Normal  \n",
      "8    0.361943         21            0        2943    Normal  \n",
      "9    1.200000         12            0         558    Normal  \n"
     ]
    }
   ],
   "source": [
    "if not df.empty:\n",
    "    X = df.drop(columns=[\"File\"])\n",
    "    scaler = StandardScaler()\n",
    "    X_scaled = scaler.fit_transform(X)\n",
    "\n",
    "    model = IsolationForest(contamination=0.2, random_state=42)\n",
    "    preds = model.fit_predict(X_scaled)\n",
    "\n",
    "    df['RiskLabel'] = ['At Risk' if p == -1 else 'Normal' for p in preds]\n",
    "    print(\"\\nFinal Result:\")\n",
    "    print(df)\n",
    "else:\n",
    "    print(\"No audio features extracted.\")\n"
   ]
  },
  {
   "cell_type": "code",
   "execution_count": 36,
   "id": "e11596ae-2f77-4806-8a54-27e51c4737d3",
   "metadata": {},
   "outputs": [
    {
     "data": {
      "image/png": "[encoded data removed]",
      "text/plain": [
       "<Figure size 800x600 with 1 Axes>"
      ]
     },
     "metadata": {},
     "output_type": "display_data"
    }
   ],
   "source": [
    "import seaborn as sns\n",
    "\n",
    "if not df.empty:\n",
    "    plt.figure(figsize=(8, 6))\n",
    "    sns.scatterplot(data=df, x=\"SpeechRate\", y=\"Hesitations\", hue=\"RiskLabel\", style=\"RiskLabel\", s=100)\n",
    "    plt.title(\"Cognitive Risk Patterns\")\n",
    "    plt.xlabel(\"Speech Rate\")\n",
    "    plt.ylabel(\"Hesitation Count\")\n",
    "    plt.grid(True)\n",
    "    plt.show()\n"
   ]
  },
  {
   "cell_type": "code",
   "execution_count": 38,
   "id": "cbb3285d-2c2e-4a0c-a9fa-b3b284d2ab97",
   "metadata": {},
   "outputs": [
    {
     "name": "stdout",
     "output_type": "stream",
     "text": [
      "Saved results to audio_cognitive_risk_scores.csv ✅\n"
     ]
    }
   ],
   "source": [
    "df.to_csv(\"audio_cognitive_risk_scores.csv\", index=False)\n",
    "print(\"Saved results to audio_cognitive_risk_scores.csv ✅\")\n"
   ]
  },
  {
   "cell_type": "code",
   "execution_count": null,
   "id": "ec145723-d173-4383-a618-8431f5814a74",
   "metadata": {},
   "outputs": [],
   "source": []
  }
 ],
 "metadata": {
  "kernelspec": {
   "display_name": "Python 3 (ipykernel)",
   "language": "python",
   "name": "python3"
  },
  "language_info": {
   "codemirror_mode": {
    "name": "ipython",
    "version": 3
   },
   "file_extension": ".py",
   "mimetype": "text/x-python",
   "name": "python",
   "nbconvert_exporter": "python",
   "pygments_lexer": "ipython3",
   "version": "3.12.4"
  }
 },
 "nbformat": 4,
 "nbformat_minor": 5
}
